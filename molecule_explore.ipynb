{
 "cells": [
  {
   "cell_type": "code",
   "execution_count": 1,
   "metadata": {},
   "outputs": [
    {
     "name": "stderr",
     "output_type": "stream",
     "text": [
      "Failed to import pandas formats module\n",
      "Failed to patch pandas - PandasTools will have limited functionality\n"
     ]
    },
    {
     "name": "stdout",
     "output_type": "stream",
     "text": [
      "O=C(O)/C=C/c1cnc2c(c1)CCC(O)=N2\n"
     ]
    }
   ],
   "source": [
    "import pandas as\n",
    "from rdkit import Chem\n",
    "from rdkit.Chem import PandasTools\n",
    "\n",
    "# Path to your SDF file\n",
    "sdf_file = 'data/combined_mols_0_to_1000000.sdf'\n",
    "\n",
    "# Load the SDF file as a supplier object\n",
    "suppl = Chem.SDMolSupplier(sdf_file)\n",
    "\n",
    "# Loop through the supplier object and work with molecules\n",
    "for mol in suppl:\n",
    "    if mol is not None:  # Check if the molecule is successfully loaded\n",
    "        print(Chem.MolToSmiles(mol)) \n",
    "        break"
   ]
  },
  {
   "cell_type": "code",
   "execution_count": 19,
   "metadata": {},
   "outputs": [
    {
     "name": "stdout",
     "output_type": "stream",
     "text": [
      "0 / 1000000\n",
      "100000 / 1000000\n",
      "[{'H_position': (2.4848, 1.9546, -0.1699), 'connected_atom_type': 'N', 'connected_atom_position': (3.1422, 1.1633, -0.1779)}, {'H_position': (6.0285, -2.1335, -1.8783), 'connected_atom_type': 'N', 'connected_atom_position': (5.7881, -2.898, -1.2329)}]\n",
      "200000 / 1000000\n",
      "[{'H_position': (3.3488, 3.1978, -1.6072), 'connected_atom_type': 'N', 'connected_atom_position': (2.6032, 3.6429, -1.0689)}, {'H_position': (-2.2282, 4.3897, 1.861), 'connected_atom_type': 'N', 'connected_atom_position': (-1.4752, 3.933, 1.3427)}]\n",
      "300000 / 1000000\n",
      "[{'H_position': (-0.1023, -0.3474, -0.3552), 'connected_atom_type': 'C', 'connected_atom_position': (0.8429, -0.0252, 0.0659)}, {'H_position': (3.2812, -0.8964, -1.0761), 'connected_atom_type': 'Si', 'connected_atom_position': (2.5468, -0.087, -0.015)}]\n",
      "[{'H_position': (2.7244, 0.3878, -2.0758), 'connected_atom_type': 'N', 'connected_atom_position': (3.4981, 0.367, -1.4107)}, {'H_position': (4.9185, -3.3791, 0.7986), 'connected_atom_type': 'N', 'connected_atom_position': (4.6308, -2.4192, 0.9919)}]\n",
      "[{'H_position': (4.4143, 3.1294, -1.6904), 'connected_atom_type': 'N', 'connected_atom_position': (4.5959, 2.2605, -1.189)}, {'H_position': (4.1228, -3.0355, 0.8622), 'connected_atom_type': 'N', 'connected_atom_position': (3.9407, -2.1668, 0.3607)}]\n",
      "400000 / 1000000\n",
      "[{'H_position': (2.9333, 1.4223, -1.5344), 'connected_atom_type': 'N', 'connected_atom_position': (3.5775, 0.8932, -0.9485)}, {'H_position': (5.5449, -3.3262, 1.9133), 'connected_atom_type': 'N', 'connected_atom_position': (4.9681, -2.5306, 1.6435)}]\n",
      "[{'H_position': (2.7288, 1.6289, 0.0722), 'connected_atom_type': 'N', 'connected_atom_position': (2.377, 2.5875, 0.0352)}, {'H_position': (-1.216, 7.0003, -0.3135), 'connected_atom_type': 'N', 'connected_atom_position': (-0.8662, 6.041, -0.2723)}]\n",
      "500000 / 1000000\n",
      "600000 / 1000000\n",
      "[{'H_position': (0.1405, -6.683, -0.9324), 'connected_atom_type': 'N', 'connected_atom_position': (-0.3013, -6.4094, -1.8205)}, {'H_position': (-1.2259, -2.2652, 2.3781), 'connected_atom_type': 'N', 'connected_atom_position': (-1.2373, -2.9762, 1.6402)}]\n",
      "[{'H_position': (2.009, 1.4102, -1.7158), 'connected_atom_type': 'N', 'connected_atom_position': (1.4736, 2.2812, -1.6037)}, {'H_position': (-0.5079, 6.9604, 1.3449), 'connected_atom_type': 'N', 'connected_atom_position': (0.0277, 6.0895, 1.2324)}]\n",
      "[{'H_position': (5.5629, -1.456, 2.3598), 'connected_atom_type': 'N', 'connected_atom_position': (5.052, -2.1532, 1.8027)}, {'H_position': (0.4183, -4.3297, -1.0787), 'connected_atom_type': 'N', 'connected_atom_position': (0.9305, -3.6336, -0.5213)}]\n",
      "[{'H_position': (0.6726, 0.2915, -1.8353), 'connected_atom_type': 'N', 'connected_atom_position': (0.2148, 0.2589, -0.9206)}, {'H_position': (4.8793, -0.5961, -0.1572), 'connected_atom_type': 'N', 'connected_atom_position': (4.5022, -0.4224, -1.0968)}]\n",
      "[{'H_position': (0.2185, -0.0635, -0.0582), 'connected_atom_type': 'C', 'connected_atom_position': (1.2212, -0.1607, 0.3892)}, {'H_position': (2.5421, 0.1485, -1.0407), 'connected_atom_type': 'N', 'connected_atom_position': (2.3641, -0.0663, -0.0477)}]\n",
      "700000 / 1000000\n",
      "[{'H_position': (2.2794, 1.7536, -1.8707), 'connected_atom_type': 'N', 'connected_atom_position': (3.0684, 1.1464, -1.6416)}, {'H_position': (6.5897, -1.6639, -0.6908), 'connected_atom_type': 'N', 'connected_atom_position': (5.573, -1.7666, -0.654)}]\n",
      "800000 / 1000000\n",
      "[{'H_position': (-1.5088, -0.5976, -0.1795), 'connected_atom_type': 'N', 'connected_atom_position': (-1.8515, -0.5733, -1.1387)}, {'H_position': (-5.7254, -0.7141, -1.2907), 'connected_atom_type': 'N', 'connected_atom_position': (-5.9674, -1.2275, -2.1376)}]\n",
      "900000 / 1000000\n"
     ]
    }
   ],
   "source": [
    "from rdkit import Chem\n",
    "from rdkit import RDLogger \n",
    "RDLogger.DisableLog('rdApp.*')   \n",
    "\n",
    "# Path to your SDF file\n",
    "sdf_file = 'data/combined_mols_0_to_1000000.sdf'\n",
    "\n",
    "# Create an SDMolSupplier object to read the SDF file\n",
    "supplier = Chem.SDMolSupplier(sdf_file)\n",
    "\n",
    "def is_valid_molecule(mol):\n",
    "    \"\"\"Check if all hydrogen atoms have exactly one bond.\"\"\"\n",
    "    total = 0\n",
    "    for atom in mol.GetAtoms():\n",
    "        if atom.GetSymbol() == 'H':\n",
    "            total += 1\n",
    "            if atom.GetDegree() != 1:\n",
    "                return False\n",
    "        if atom.GetSymbol() != 'H' and atom.GetDegree() == 1:\n",
    "            return False\n",
    "    return total > 1\n",
    "\n",
    "molecule_list = []\n",
    "\n",
    "# Iterate through each molecule in the SDF file\n",
    "total_printed = 0\n",
    "for index, mol in enumerate(supplier):\n",
    "    if index % 100000 == 0:\n",
    "        print(f'{index} / {len(supplier)}')\n",
    "    \n",
    "    if mol is not None and is_valid_molecule(mol):  # Check if the molecule is successfully read\n",
    "        hydrogen_atoms_info = []\n",
    "        other_atoms_info = []\n",
    "        \n",
    "        conf = mol.GetConformer()\n",
    "        for atom in mol.GetAtoms():\n",
    "            pos = conf.GetAtomPosition(atom.GetIdx())  # Get current atom position\n",
    "            if atom.GetSymbol() == 'H':\n",
    "                # For hydrogen atoms, find the atoms they are connected to\n",
    "                for neighbor in atom.GetNeighbors():\n",
    "                    neighbor_pos = conf.GetAtomPosition(neighbor.GetIdx())\n",
    "                    hydrogen_atoms_info.append({\n",
    "                        \"H_position\": (pos.x, pos.y, pos.z),\n",
    "                        \"connected_atom_type\": neighbor.GetSymbol(),\n",
    "                        \"connected_atom_position\": (neighbor_pos.x, neighbor_pos.y, neighbor_pos.z)\n",
    "                    })\n",
    "            else:\n",
    "                # For other atoms, simply record their position\n",
    "                other_atoms_info.append({\n",
    "                    \"atom_type\": atom.GetSymbol(),\n",
    "                    \"position\": (pos.x, pos.y, pos.z)\n",
    "                })\n",
    "                \n",
    "        molecule_list.append({\n",
    "            'H': hydrogen_atoms_info,\n",
    "            'Other': other_atoms_info\n",
    "        })\n",
    "        \n",
    "        print(hydrogen_atoms_info)\n"
   ]
  },
  {
   "cell_type": "code",
   "execution_count": 33,
   "metadata": {},
   "outputs": [
    {
     "name": "stdout",
     "output_type": "stream",
     "text": [
      "[[ 0.6726  4.8793]\n",
      " [ 0.2915 -0.5961]\n",
      " [-1.8353 -0.1572]] \n",
      " [[0. 0.]\n",
      " [0. 0.]\n",
      " [0. 0.]] \n",
      " [[ 0.2148  4.5022]\n",
      " [ 0.2589 -0.4224]\n",
      " [-0.9206 -1.0968]]\n"
     ]
    }
   ],
   "source": [
    "import numpy as np\n",
    "import numpy.linalg as la\n",
    "\n",
    "def molecule_to_np(hydrogen_list):\n",
    "    n = len(hydrogen_list)\n",
    "    \n",
    "    h_q = np.zeros((3, n))\n",
    "    h_p = np.zeros((3, n))\n",
    "    n_q = np.zeros((3, n))\n",
    "    h_l = np.zeros(n)\n",
    "    h_m = np.zeros(n)\n",
    "    \n",
    "    for i, atom in enumerate(hydrogen_list):\n",
    "        h_q[:, i] = np.array(atom['H_position'])\n",
    "        n_q[:, i] = np.array(atom['connected_atom_position'])\n",
    "        h_l[i] = np.linalg.norm(h_q[:, i] - n_q[:, i])\n",
    "        h_m[i] = 1\n",
    "        \n",
    "        \n",
    "    print(h_q, '\\n', h_p, '\\n', n_q)\n",
    "    return h_q, h_p, n_q, h_l, h_m\n",
    "\n",
    "h_q, h_p, n_q, h_l, h_m = molecule_to_np(molecule_list[10]['H'])"
   ]
  },
  {
   "cell_type": "code",
   "execution_count": 34,
   "metadata": {},
   "outputs": [],
   "source": [
    "# Constants\n",
    "k_spr = 0.1\n",
    "eps = 1\n",
    "sigma = 0.1\n",
    "\n",
    "def kinetic_energy(h_p, h_m):\n",
    "    # Calculate the squared 2-norm of each momentum vector, then sum with mass consideration\n",
    "    ke = np.sum(np.sum(h_p**2, axis=0) / (2 * h_m))  # axis=0 sums across rows for each column vector\n",
    "    return ke\n",
    "\n",
    "def potential_energy(h_q, n_q, h_l, f_c, f_i):\n",
    "    energy = 0\n",
    "    k = h_q.shape[1]  # Number of particles\n",
    "    for i in range(k):\n",
    "        for j in range(i + 1, k):\n",
    "            r_ij = np.linalg.norm(h_q[:, i] - h_q[:, j])\n",
    "            energy += f_c(r_ij)\n",
    "        r_i = np.linalg.norm(h_q[:, i] - n_q[:, i])\n",
    "        l = h_l[i]\n",
    "        energy += f_i(r_i, l)\n",
    "    return energy\n",
    "\n",
    "def v_t(q, t, e_t):\n",
    "    # Assuming e(t) is a scalar or a vector function that properly broadcasts over q's dimensions\n",
    "    return np.sum(e_t(t) * q)\n",
    "\n",
    "# def f_c(x):\n",
    "#     return 1/x # Straightforward to differentiate\n",
    "\n",
    "# def df_c(x):\n",
    "#     return -1/x**2\n",
    "\n",
    "def f_i(x, l):\n",
    "    return k_spr*(x - l)**2\n",
    "\n",
    "def df_i(x, l):\n",
    "    return k_spr*2*(x - l)\n",
    "\n",
    "def f_c(x):\n",
    "    return 4*eps*((sigma/x)**12 - (sigma/x)**6) # Straightforward to differentiate\n",
    "\n",
    "def df_c(x):\n",
    "    return -4*eps*(12*sigma**12/x**11 - 6*sigma**6/x**5)\n",
    "\n",
    "def e(t):\n",
    "    return 0 # Consider conservative system initially\n",
    "\n",
    "def H(h_p, h_q, n_q, h_m, h_l, f_c, f_i, e_t, t):\n",
    "    return kinetic_energy(h_p, h_m) + potential_energy(h_q, n_q, h_l, f_c, f_i) + v_t(h_q, t, e_t)\n",
    "\n",
    "def dH_dp_i(h_p, h_m, i):\n",
    "    return h_p[:, i] / h_m[i]\n",
    "\n",
    "def dH_dq_i(h_q, h_m, n_q, h_l, i):\n",
    "    d, k = h_q.shape\n",
    "    total = np.zeros(d)\n",
    "    for j in range(k):\n",
    "        if i == j:\n",
    "            continue\n",
    "        x = h_q[:, i] - h_q[:, j]\n",
    "        norm_x = la.norm(x)\n",
    "        total += x/norm_x * df_c(norm_x)\n",
    "    x = h_q[:, i] - n_q[:, i]\n",
    "    norm_x = la.norm(x)\n",
    "    total += x / norm_x * df_i(norm_x, h_l[i])\n",
    "    return total\n",
    "\n",
    "def dH_dp(h_p, h_m):\n",
    "    d, k = h_p.shape\n",
    "    diff_p = np.zeros_like(h_p)\n",
    "    for i in range(k):\n",
    "        diff_p[:, i] = dH_dp_i(h_p, h_m, i)\n",
    "    return diff_p\n",
    "\n",
    "def dH_dq(h_q, h_m, n_q, h_l):\n",
    "    d, k = h_q.shape\n",
    "    diff_q = np.zeros_like(h_q)\n",
    "    for i in range(k):\n",
    "        diff_q[:, i] = dH_dq_i(h_q, h_m, n_q, h_l, i)\n",
    "    return diff_q\n",
    "    \n",
    "    "
   ]
  },
  {
   "cell_type": "code",
   "execution_count": 50,
   "metadata": {},
   "outputs": [],
   "source": [
    "\n",
    "def leapfrog_integration(q0, p0, n_q, h_l, m, dt, total_time):\n",
    "    \"\"\"\n",
    "    Perform leapfrog integration.\n",
    "    \"\"\"\n",
    "    steps = int(total_time / dt)\n",
    "    q, p = q0.copy(), p0.copy()\n",
    "    \n",
    "    # Initialize arrays to store trajectories for plotting\n",
    "    trajectories = np.zeros((q.shape[0], q.shape[1], steps + 1))\n",
    "    trajectories[:, :, 0] = q\n",
    "    \n",
    "    momentums = np.zeros((p.shape[0], p.shape[1], steps + 1))\n",
    "    momentums[:, :, 0] = p\n",
    "    \n",
    "    for step in range(steps):\n",
    "        p_half = p - 0.5 * dt * dH_dq(q, m, n_q, h_l)\n",
    "        q = q + dt * dH_dp(p_half, m)\n",
    "        p = p_half - 0.5 * dt * dH_dq(q, m, n_q, h_l)\n",
    "        \n",
    "        # Store positions for plotting\n",
    "        trajectories[:, :, step + 1] = q\n",
    "        momentums[:, :, step + 1] = p\n",
    "    \n",
    "    return trajectories, momentums"
   ]
  },
  {
   "cell_type": "code",
   "execution_count": 51,
   "metadata": {},
   "outputs": [],
   "source": [
    "\n",
    "dt = 0.001\n",
    "total_time = 10*np.pi  # One orbital period, simplified\n",
    "\n",
    "trajectories, momentums = leapfrog_integration(h_q, h_p, n_q, h_l, h_m, dt, total_time)"
   ]
  },
  {
   "cell_type": "code",
   "execution_count": 54,
   "metadata": {},
   "outputs": [
    {
     "name": "stdout",
     "output_type": "stream",
     "text": [
      "(3, 2, 31416)\n"
     ]
    },
    {
     "data": {
      "image/png": "[encoded data removed]",
      "text/plain": [
       "<Figure size 640x480 with 1 Axes>"
      ]
     },
     "metadata": {},
     "output_type": "display_data"
    },
    {
     "data": {
      "image/png": "[encoded data removed]",
      "text/plain": [
       "<Figure size 640x480 with 1 Axes>"
      ]
     },
     "metadata": {},
     "output_type": "display_data"
    },
    {
     "data": {
      "image/png": "[encoded data removed]",
      "text/plain": [
       "<Figure size 640x480 with 1 Axes>"
      ]
     },
     "metadata": {},
     "output_type": "display_data"
    }
   ],
   "source": [
    "import matplotlib.pyplot as plt\n",
    "print(trajectories.shape)\n",
    "plt.scatter(list(range(trajectories.shape[2])), trajectories[0, 0, :])\n",
    "plt.show()\n",
    "\n",
    "plt.scatter(list(range(trajectories.shape[2])), trajectories[1, 0, :])\n",
    "plt.show()\n",
    "\n",
    "plt.scatter(list(range(trajectories.shape[2])), trajectories[2, 0, :])\n",
    "plt.show()"
   ]
  }
 ],
 "metadata": {
  "kernelspec": {
   "display_name": ".venv",
   "language": "python",
   "name": "python3"
  },
  "language_info": {
   "codemirror_mode": {
    "name": "ipython",
    "version": 3
   },
   "file_extension": ".py",
   "mimetype": "text/x-python",
   "name": "python",
   "nbconvert_exporter": "python",
   "pygments_lexer": "ipython3",
   "version": "3.10.12"
  }
 },
 "nbformat": 4,
 "nbformat_minor": 2
}
